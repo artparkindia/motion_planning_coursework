{
 "cells": [
  {
   "cell_type": "code",
   "execution_count": 1,
   "metadata": {},
   "outputs": [],
   "source": [
    "import numpy as np\n",
    "import matplotlib.pyplot as plt"
   ]
  },
  {
   "cell_type": "markdown",
   "metadata": {},
   "source": [
    "Remember that in week 1 we had generated open-loop commands for a set of manoeuvres such as\n",
    "$[(\"straight\", 5), (\"right\", 90), (\"straight\", 6), (\"left\", 90)]$\n",
    "\n",
    "Let us do repeat, but with a change. Instead of left/ right, simply use turn and a signed angle.\n",
    "$[(\"straight\", 5), (\"turn\", -90), (\"straight\", 6), (\"turn\", 90)]$\n",
    "\n",
    "You can use cubic_spiral() from previous notebook"
   ]
  },
  {
   "cell_type": "code",
   "execution_count": null,
   "metadata": {},
   "outputs": [],
   "source": [
    "num_pts = 10\n",
    "\n",
    "def straight(dist, curr_theta, n=num_pts):\n",
    "    # the straight-line may be along x or y axis\n",
    "    #curr_theta will determine the orientation\n",
    "    pass\n",
    "\n",
    "def turn(change, curr_theta, n = num_pts):\n",
    "    #adjust scaling constant for desired turn radius\n",
    "#     theta = cubic_spiral(curr_theta, curr_theta + change, n)\n",
    "    pass    \n",
    "\n",
    "def generate_trajectory(route, theta0 = np.pi/2):\n",
    "    curr_theta = theta0\n",
    "    func = {'straight': straight, 'turn': turn}\n",
    "    x, y, t = np.array([]), np.array([]),np.array([])\n",
    "    for manoeuvre, command in route:\n",
    "        px, py, pt = #calling function\n",
    "        curr_theta = path_t[-1]\n",
    "        # update x, y, t using np.concatenate and px,py,pt\n",
    "        \n",
    "    return x, y, t"
   ]
  },
  {
   "cell_type": "markdown",
   "metadata": {},
   "source": [
    "### Plot the trajectory\n",
    "plot the trajectory and the change in orientation in separate plots"
   ]
  },
  {
   "cell_type": "code",
   "execution_count": null,
   "metadata": {},
   "outputs": [],
   "source": []
  },
  {
   "cell_type": "markdown",
   "metadata": {},
   "source": [
    "## Convert \n",
    "\n",
    "A* or Djikstra gives a sequence of $\\{(x_i, y_i)\\}$. We need to convert it to a sequence of {\"straight\", \"turn\"} if we are use generate_trajectory()\n",
    "\n",
    "Let us look at a simple method. Assume that the successive line segments are orthogonal (reasonable in the grid world). If we find the corner point, we can demarcate. \n",
    "\n",
    "For 3 consecutive points $(x_1,y_1), (x_2, y_2), (x_3, y_3)$ if \n",
    "$(x_1 - x_2)(y_3-y2) - (x_3-x_2)(y_2-y_1) \\neq 0$, then $(x_2, y_2)$ is a corner point\n",
    "\n",
    "Think about what is happening if\n",
    "\n",
    "1. $(x_1 - x_2)(y_3-y2) - (x_3-x_2)(y_2-y_1) > 0$\n",
    "\n",
    "2. $(x_1 - x_2)(y_3-y2) - (x_3-x_2)(y_2-y_1) < 0$"
   ]
  },
  {
   "cell_type": "code",
   "execution_count": 6,
   "metadata": {},
   "outputs": [
    {
     "data": {
      "image/png": "[encoded data removed]",
      "text/plain": [
       "<Figure size 432x288 with 1 Axes>"
      ]
     },
     "metadata": {
      "needs_background": "light"
     },
     "output_type": "display_data"
    }
   ],
   "source": [
    "# here is a code to generate 2 orthogonal \n",
    "# line segments of lengths 6\n",
    "\n",
    "s1, s2 = 6, 6\n",
    "y1 = list(range(s1))\n",
    "x1 = [0]*s1\n",
    "\n",
    "x2 = list(range(s2))\n",
    "y2 = [y1[-1]]*s2\n",
    "\n",
    "x, y = x1+x2, y1+y2\n",
    "plt.figure()\n",
    "plt.plot(x, y)\n",
    "plt.grid()\n",
    "\n",
    "#find the corner point and plot it\n",
    "\n",
    "\n",
    "# Fix a turn radius r\n",
    "# Shorten the straight segments by r\n",
    "# convert this into {(\"straight\", s1), (\"turn\", +/- 90), (\"straight\", s2)}\n",
    "\n",
    "\n",
    "# use generate_trajectory() and plot the smooth path"
   ]
  },
  {
   "cell_type": "markdown",
   "metadata": {},
   "source": [
    "# More complex example\n",
    "Borrow the Grid world code from week 2 notebook. Get the A* path and smoothen it using the routine from above"
   ]
  },
  {
   "cell_type": "code",
   "execution_count": null,
   "metadata": {},
   "outputs": [],
   "source": []
  },
  {
   "cell_type": "markdown",
   "metadata": {},
   "source": [
    "This approach of path planning with 90 deg turns juxtaposed between straight segments works well in structured environments.\n",
    "\n",
    "In the general case, where $A^*$/ $RRT^*$ path is a sequence of piecewise linear segments, we will perform a path optimization routine directly. "
   ]
  },
  {
   "cell_type": "markdown",
   "metadata": {},
   "source": [
    "There are 3 more advanced manouevres that you may need\n",
    "\n",
    "1. Lane-change: Robot has to move laterally but without change to the orientation\n",
    "\n",
    "2. Inplace: Robot has to turn around itself\n",
    "    \n",
    "3. Reverse: Straights or turns in reverse\n",
    "\n",
    "Lane-change has to be applied as a combination of 2 cubic spirals (90 to 0 and 0 to 90). Inplace and Reverse are situational constructs"
   ]
  },
  {
   "cell_type": "code",
   "execution_count": null,
   "metadata": {},
   "outputs": [],
   "source": []
  }
 ],
 "metadata": {
  "kernelspec": {
   "display_name": "Python 3",
   "language": "python",
   "name": "python3"
  },
  "language_info": {
   "codemirror_mode": {
    "name": "ipython",
    "version": 3
   },
   "file_extension": ".py",
   "mimetype": "text/x-python",
   "name": "python",
   "nbconvert_exporter": "python",
   "pygments_lexer": "ipython3",
   "version": "3.9.1"
  },
  "varInspector": {
   "cols": {
    "lenName": 16,
    "lenType": 16,
    "lenVar": 40
   },
   "kernels_config": {
    "python": {
     "delete_cmd_postfix": "",
     "delete_cmd_prefix": "del ",
     "library": "var_list.py",
     "varRefreshCmd": "print(var_dic_list())"
    },
    "r": {
     "delete_cmd_postfix": ") ",
     "delete_cmd_prefix": "rm(",
     "library": "var_list.r",
     "varRefreshCmd": "cat(var_dic_list()) "
    }
   },
   "types_to_exclude": [
    "module",
    "function",
    "builtin_function_or_method",
    "instance",
    "_Feature"
   ],
   "window_display": true
  }
 },
 "nbformat": 4,
 "nbformat_minor": 4
}
