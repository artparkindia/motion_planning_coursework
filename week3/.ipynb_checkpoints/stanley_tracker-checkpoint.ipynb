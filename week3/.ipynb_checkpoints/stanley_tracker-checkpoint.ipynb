{
 "cells": [
  {
   "cell_type": "markdown",
   "metadata": {},
   "source": [
    "## Stanley tracker\n",
    "\n",
    "Stanley controller was used in the DARPA-challenge winning autonomous vehicle, back in the day. \n",
    "It is a non-linear controller, which explicitly takes into account **ref_theta** unlike pure pursuit. Because it was used for a car, a bicycle model is to be used for vehicular motion\n",
    "\n",
    "Trackers are trying to minimize 2 types of errors\n",
    "\n",
    "1. Positional error or cross-track error $x_e$\n",
    "\n",
    "2. Heading error $\\theta_e$\n",
    "\n",
    "Tracker controls the steering as a function of these 2 errors\n",
    "\n",
    "$\\delta = \\theta_e + \\tan^{-1}\\frac{kx_e}{v}$\n",
    "\n",
    "The second term can be thought of as how quickly do we want the vehicle to compensate for the positional error relative to vehicle velocity\n"
   ]
  },
  {
   "cell_type": "markdown",
   "metadata": {},
   "source": [
    "Snider has a nice/ concise summary of how it works in Sec 2.3 of his Phd thesis\n",
    "https://www.ri.cmu.edu/pub_files/2009/2/Automatic_Steering_Methods_for_Autonomous_Automobile_Path_Tracking.pdf\n",
    "\n",
    "There is a reference implementation here\n",
    "https://github.com/AtsushiSakai/PythonRobotics/blob/master/PathTracking/stanley_controller/stanley_controller.py"
   ]
  },
  {
   "cell_type": "markdown",
   "metadata": {},
   "source": [
    "+ Take the smoothened trajectory of straight/ right turn/ straight from week 2. \n",
    "+ Induce a small error in initial pose. \n",
    "+ Simulate vehicular motion using the Stanley tracker"
   ]
  },
  {
   "cell_type": "code",
   "execution_count": null,
   "metadata": {},
   "outputs": [],
   "source": []
  }
 ],
 "metadata": {
  "kernelspec": {
   "display_name": "Python 3",
   "language": "python",
   "name": "python3"
  },
  "language_info": {
   "codemirror_mode": {
    "name": "ipython",
    "version": 3
   },
   "file_extension": ".py",
   "mimetype": "text/x-python",
   "name": "python",
   "nbconvert_exporter": "python",
   "pygments_lexer": "ipython3",
   "version": "3.9.1"
  },
  "varInspector": {
   "cols": {
    "lenName": 16,
    "lenType": 16,
    "lenVar": 40
   },
   "kernels_config": {
    "python": {
     "delete_cmd_postfix": "",
     "delete_cmd_prefix": "del ",
     "library": "var_list.py",
     "varRefreshCmd": "print(var_dic_list())"
    },
    "r": {
     "delete_cmd_postfix": ") ",
     "delete_cmd_prefix": "rm(",
     "library": "var_list.r",
     "varRefreshCmd": "cat(var_dic_list()) "
    }
   },
   "types_to_exclude": [
    "module",
    "function",
    "builtin_function_or_method",
    "instance",
    "_Feature"
   ],
   "window_display": false
  }
 },
 "nbformat": 4,
 "nbformat_minor": 4
}
