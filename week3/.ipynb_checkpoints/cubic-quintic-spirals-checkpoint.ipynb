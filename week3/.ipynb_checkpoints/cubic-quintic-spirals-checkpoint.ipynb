{
 "cells": [
  {
   "cell_type": "code",
   "execution_count": null,
   "metadata": {},
   "outputs": [],
   "source": [
    "import numpy as np\n",
    "import matplotlib.pyplot as plt\n",
    "from sympy import Symbol, integrate\n",
    "%matplotlib notebook"
   ]
  },
  {
   "cell_type": "markdown",
   "metadata": {},
   "source": [
    "### Smooth local paths\n",
    "We will use cubic spirals to generate smooth local paths. Without loss of generality, as $\\theta$ smoothly changes from 0 to 1, we impose a condition on the curvature as follows\n",
    "\n",
    "$\\kappa = f'(\\theta) = K(\\theta(1-\\theta))^n $\n",
    "\n",
    "This ensures curvature vanishes at the beginning and end of the path. Integrating, the yaw changes as\n",
    "$\\theta = \\int_0^x f'(\\theta)d\\theta$\n",
    "\n",
    "With $n = 1$ we get a cubic spiral, $n=2$ we get a quintic spiral and so on. Let us use the sympy package to find the family of spirals\n",
    "\n",
    "1. Declare $x$ a Symbol\n",
    "\n",
    "2. You want to find Integral of $f'(x)$\n",
    "\n",
    "3. You can choose $K$ so that all coefficients are integers\n",
    "\n",
    "Verify if $\\theta(0) = 0$ and $\\theta(1) = 1$"
   ]
  },
  {
   "cell_type": "code",
   "execution_count": null,
   "metadata": {},
   "outputs": [],
   "source": [
    "K =   #choose for cubic/quintic\n",
    "n =  #choose for cubic/ quintic\n",
    "x =  #declare as Symbol\n",
    "print(integrate(K*(x*(1-x)), x)) # complete the expression"
   ]
  },
  {
   "cell_type": "code",
   "execution_count": null,
   "metadata": {},
   "outputs": [],
   "source": [
    "#write function to compute a cubic spiral\n",
    "#input/ output can be any theta\n",
    "def cubic_spiral(theta_i, theta_f, n=10):\n",
    "    x = np.linspace(0, 1, num=n)\n",
    "    pass \n",
    "\n",
    "def quintic_spiral(theta_i, theta_f, n=10):\n",
    "    x = np.linspace(0, 1, num=n)    \n",
    "    pass"
   ]
  },
  {
   "cell_type": "markdown",
   "metadata": {},
   "source": [
    "### Plotting\n",
    "Plot cubic, quintic spirals along with how $\\theta$ will change when moving in a circular arc. Remember circular arc is when  $\\omega $ is constant\n"
   ]
  },
  {
   "cell_type": "code",
   "execution_count": null,
   "metadata": {},
   "outputs": [],
   "source": [
    "plt.figure()\n",
    "plt.plot(, label='Circular')\n",
    "plt.plot(, label='Cubic')\n",
    "plt.plot(,label='Quintic')\n",
    "plt.grid()\n",
    "plt.legend()"
   ]
  },
  {
   "cell_type": "markdown",
   "metadata": {},
   "source": [
    "## Trajectory\n",
    "\n",
    "Using the spirals, convert them to trajectories $\\{(x_i,y_i,\\theta_i)\\}$. Remember the unicycle model \n",
    "\n",
    "$dx = v\\cos \\theta dt$\n",
    "\n",
    "$dy = v\\sin \\theta dt$\n",
    "\n",
    "$\\theta$ is given by the spiral functions you just wrote. Use cumsum() in numpy to calculate {}\n",
    "\n",
    "What happens when you change $v$?"
   ]
  },
  {
   "cell_type": "code",
   "execution_count": null,
   "metadata": {},
   "outputs": [],
   "source": [
    "v = 1\n",
    "dt = 0.1\n",
    "\n",
    "x = np.cumsum()\n",
    "y = np.cumsum()\n",
    "\n",
    "# plot trajectories for circular/ cubic/ quintic\n",
    "plt.figure()\n",
    "plt.plot()"
   ]
  },
  {
   "cell_type": "markdown",
   "metadata": {},
   "source": [
    "## Symmetric poses\n",
    "\n",
    "We have been doing only examples with $|\\theta_i - \\theta_f| = \\pi/2$. \n",
    "\n",
    "What about other orientation changes? Given below is an array of terminal angles (they are in degrees!). Start from 0 deg and plot the family of trajectories"
   ]
  },
  {
   "cell_type": "code",
   "execution_count": null,
   "metadata": {},
   "outputs": [],
   "source": [
    "dt = 0.1\n",
    "thetas = [15, 30, 45, 60, 90, 120, 150, 180] #convert to radians\n",
    "plt.figure()\n",
    "for tf in thetas:\n",
    "    t = cubic_spiral(0, np.deg2rad(tf),50)\n",
    "    x = np.cumsum(np.cos(t)*dt)\n",
    "    y = np.cumsum(np.sin(t)*dt)\n",
    "    plt.plot(x, y)\n",
    "\n",
    "# On the same plot, move from 180 to 180 - theta\n",
    "#thetas = \n",
    "# plt.figure()\n",
    "# for tf in thetas:\n",
    "#     # x = \n",
    "#     # y = \n",
    "#     plt.plot(x, y)\n",
    "\n",
    "plt.grid()"
   ]
  },
  {
   "cell_type": "markdown",
   "metadata": {},
   "source": [
    "Modify your code to print the following for the positive terminal angles $\\{\\theta_f\\}$\n",
    "1. Final x, y position in corresponding trajectory: $x_f, y_f$ \n",
    "2. $\\frac{y_f}{x_f}$ and $\\tan \\frac{\\theta_f}{2}$\n",
    "\n",
    "What do you notice? \n",
    "What happens when $v$ is doubled?"
   ]
  },
  {
   "cell_type": "code",
   "execution_count": null,
   "metadata": {},
   "outputs": [],
   "source": []
  },
  {
   "cell_type": "markdown",
   "metadata": {},
   "source": [
    "These are called *symmetric poses*. With this spiral-fitting approach, only symmetric poses can be reached. \n",
    "\n",
    "In order to move between any 2 arbitrary poses, you will have to find an intermediate pose that is pair-wise symmetric to the start and the end pose. \n",
    "\n",
    "What should be the intermediate pose? There are infinite possibilities. We would have to formulate it as an optimization problem. As they say, that has to be left for another time!"
   ]
  },
  {
   "cell_type": "code",
   "execution_count": null,
   "metadata": {},
   "outputs": [],
   "source": []
  }
 ],
 "metadata": {
  "kernelspec": {
   "display_name": "Python 3",
   "language": "python",
   "name": "python3"
  },
  "language_info": {
   "codemirror_mode": {
    "name": "ipython",
    "version": 3
   },
   "file_extension": ".py",
   "mimetype": "text/x-python",
   "name": "python",
   "nbconvert_exporter": "python",
   "pygments_lexer": "ipython3",
   "version": "3.9.1"
  },
  "varInspector": {
   "cols": {
    "lenName": 16,
    "lenType": 16,
    "lenVar": 40
   },
   "kernels_config": {
    "python": {
     "delete_cmd_postfix": "",
     "delete_cmd_prefix": "del ",
     "library": "var_list.py",
     "varRefreshCmd": "print(var_dic_list())"
    },
    "r": {
     "delete_cmd_postfix": ") ",
     "delete_cmd_prefix": "rm(",
     "library": "var_list.r",
     "varRefreshCmd": "cat(var_dic_list()) "
    }
   },
   "types_to_exclude": [
    "module",
    "function",
    "builtin_function_or_method",
    "instance",
    "_Feature"
   ],
   "window_display": true
  }
 },
 "nbformat": 4,
 "nbformat_minor": 4
}
